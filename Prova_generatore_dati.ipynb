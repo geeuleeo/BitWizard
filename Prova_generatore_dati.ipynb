{
  "nbformat": 4,
  "nbformat_minor": 0,
  "metadata": {
    "colab": {
      "provenance": [],
      "authorship_tag": "ABX9TyN9Exc7oGc3FtMLv4E4R8dG",
      "include_colab_link": true
    },
    "kernelspec": {
      "name": "python3",
      "display_name": "Python 3"
    },
    "language_info": {
      "name": "python"
    }
  },
  "cells": [
    {
      "cell_type": "markdown",
      "metadata": {
        "id": "view-in-github",
        "colab_type": "text"
      },
      "source": [
        "<a href=\"https://colab.research.google.com/github/geeuleeo/BitWizard/blob/main/Prova_generatore_dati.ipynb\" target=\"_parent\"><img src=\"https://colab.research.google.com/assets/colab-badge.svg\" alt=\"Open In Colab\"/></a>"
      ]
    },
    {
      "cell_type": "code",
      "source": [
        "import random\n",
        "import time\n",
        "\n",
        "# Defining the data based on the provided tables\n",
        "steel_types = [\n",
        "    (\"Acciai al Carbonio\", (800, 1200), \"Acciaio 1.1730 (C45)\"),\n",
        "    (\"AISI 304\", (900, 1150), \"Acciaio Inossidabile Stavax\"),\n",
        "    (\"AISI 316\", (900, 1150), \"Acciaio Inossidabile Mirrax\"),\n",
        "    (\"AISI 410\", (850, 1150), \"Acciaio 1.2343 o 1.2344\"),\n",
        "    (\"AISI 430\", (900, 1150), \"Acciaio 1.2311\"),\n",
        "    (\"Acciai per Utensili a Freddo\", (600, 1000), \"Acciaio 1.2312\"),\n",
        "    (\"Acciai per Utensili a Caldo\", (1000, 1200), \"Acciaio 1.2344 o H13\"),\n",
        "    (\"Acciai Basso Legati\", (None, None), \"Acciaio 4140\"),\n",
        "    (\"Acciai Duplex\", (None, None), \"Acciaio Duplex (es. GX2CrNiMoCuN25-6-3-3)\")\n",
        "]\n",
        "\n",
        "def generate_random_record():\n",
        "    # Generate a random piece code\n",
        "    piece_code = ''.join(random.choices('ABCDEFGHIJKLMNOPQRSTUVWXYZ0123456789', k=8))\n",
        "\n",
        "    # Select a random steel type\n",
        "    steel_type = random.choice(steel_types)\n",
        "\n",
        "    # Extract details from the selected steel type\n",
        "    steel_name, temp_range, mold_material = steel_type\n",
        "    min_temp, max_temp = temp_range if temp_range[0] is not None else (None, None)\n",
        "\n",
        "    # Create a record dictionary\n",
        "    record = {\n",
        "        \"Codice Pezzo\": piece_code,\n",
        "        \"Tipo di Acciaio\": steel_name,\n",
        "        \"Temperatura Min\": min_temp,\n",
        "        \"Temperatura Max\": max_temp,\n",
        "        \"Materiale per Stampi\": mold_material\n",
        "    }\n",
        "\n",
        "    return record\n",
        "\n",
        "# Continuously generate records every 10 seconds\n",
        "while True:\n",
        "    record = generate_random_record()\n",
        "    print(record)\n",
        "    time.sleep(10)"
      ],
      "metadata": {
        "id": "MoIiVI25qbGf",
        "colab": {
          "base_uri": "https://localhost:8080/",
          "height": 558
        },
        "outputId": "d34a7322-a7c7-4756-c278-b2675487a777"
      },
      "execution_count": null,
      "outputs": [
        {
          "output_type": "stream",
          "name": "stdout",
          "text": [
            "{'Codice Pezzo': '13HVSUSV', 'Tipo di Acciaio': 'AISI 304', 'Temperatura Min': 900, 'Temperatura Max': 1150, 'Materiale per Stampi': 'Acciaio Inossidabile Stavax'}\n",
            "{'Codice Pezzo': 'LFF15EY2', 'Tipo di Acciaio': 'AISI 316', 'Temperatura Min': 900, 'Temperatura Max': 1150, 'Materiale per Stampi': 'Acciaio Inossidabile Mirrax'}\n",
            "{'Codice Pezzo': 'D5NLAB54', 'Tipo di Acciaio': 'Acciai al Carbonio', 'Temperatura Min': 800, 'Temperatura Max': 1200, 'Materiale per Stampi': 'Acciaio 1.1730 (C45)'}\n",
            "{'Codice Pezzo': '4UP0SRFZ', 'Tipo di Acciaio': 'AISI 430', 'Temperatura Min': 900, 'Temperatura Max': 1150, 'Materiale per Stampi': 'Acciaio 1.2311'}\n",
            "{'Codice Pezzo': 'KG2P367S', 'Tipo di Acciaio': 'AISI 316', 'Temperatura Min': 900, 'Temperatura Max': 1150, 'Materiale per Stampi': 'Acciaio Inossidabile Mirrax'}\n",
            "{'Codice Pezzo': 'T1UKW1U7', 'Tipo di Acciaio': 'Acciai Basso Legati', 'Temperatura Min': None, 'Temperatura Max': None, 'Materiale per Stampi': 'Acciaio 4140'}\n",
            "{'Codice Pezzo': '1JUSR0TQ', 'Tipo di Acciaio': 'AISI 304', 'Temperatura Min': 900, 'Temperatura Max': 1150, 'Materiale per Stampi': 'Acciaio Inossidabile Stavax'}\n",
            "{'Codice Pezzo': '6E36OPK0', 'Tipo di Acciaio': 'AISI 304', 'Temperatura Min': 900, 'Temperatura Max': 1150, 'Materiale per Stampi': 'Acciaio Inossidabile Stavax'}\n",
            "{'Codice Pezzo': 'VQSBGDTX', 'Tipo di Acciaio': 'AISI 316', 'Temperatura Min': 900, 'Temperatura Max': 1150, 'Materiale per Stampi': 'Acciaio Inossidabile Mirrax'}\n",
            "{'Codice Pezzo': '8FU2EZUA', 'Tipo di Acciaio': 'Acciai Basso Legati', 'Temperatura Min': None, 'Temperatura Max': None, 'Materiale per Stampi': 'Acciaio 4140'}\n",
            "{'Codice Pezzo': 'EQZ0DQLX', 'Tipo di Acciaio': 'AISI 430', 'Temperatura Min': 900, 'Temperatura Max': 1150, 'Materiale per Stampi': 'Acciaio 1.2311'}\n",
            "{'Codice Pezzo': 'VHBDK2QZ', 'Tipo di Acciaio': 'AISI 304', 'Temperatura Min': 900, 'Temperatura Max': 1150, 'Materiale per Stampi': 'Acciaio Inossidabile Stavax'}\n",
            "{'Codice Pezzo': '4SK6TLW4', 'Tipo di Acciaio': 'Acciai Basso Legati', 'Temperatura Min': None, 'Temperatura Max': None, 'Materiale per Stampi': 'Acciaio 4140'}\n",
            "{'Codice Pezzo': 'T9NAT3LV', 'Tipo di Acciaio': 'Acciai al Carbonio', 'Temperatura Min': 800, 'Temperatura Max': 1200, 'Materiale per Stampi': 'Acciaio 1.1730 (C45)'}\n",
            "{'Codice Pezzo': 'KTP4XANB', 'Tipo di Acciaio': 'AISI 430', 'Temperatura Min': 900, 'Temperatura Max': 1150, 'Materiale per Stampi': 'Acciaio 1.2311'}\n",
            "{'Codice Pezzo': '40RTO0YQ', 'Tipo di Acciaio': 'AISI 316', 'Temperatura Min': 900, 'Temperatura Max': 1150, 'Materiale per Stampi': 'Acciaio Inossidabile Mirrax'}\n",
            "{'Codice Pezzo': 'HG0KQ4V5', 'Tipo di Acciaio': 'Acciai Basso Legati', 'Temperatura Min': None, 'Temperatura Max': None, 'Materiale per Stampi': 'Acciaio 4140'}\n",
            "{'Codice Pezzo': 'VCKL7THF', 'Tipo di Acciaio': 'Acciai Basso Legati', 'Temperatura Min': None, 'Temperatura Max': None, 'Materiale per Stampi': 'Acciaio 4140'}\n",
            "{'Codice Pezzo': 'HMDDAL7M', 'Tipo di Acciaio': 'AISI 304', 'Temperatura Min': 900, 'Temperatura Max': 1150, 'Materiale per Stampi': 'Acciaio Inossidabile Stavax'}\n",
            "{'Codice Pezzo': 'NE46GQHR', 'Tipo di Acciaio': 'Acciai Duplex', 'Temperatura Min': None, 'Temperatura Max': None, 'Materiale per Stampi': 'Acciaio Duplex (es. GX2CrNiMoCuN25-6-3-3)'}\n",
            "{'Codice Pezzo': 'OE239YVP', 'Tipo di Acciaio': 'AISI 430', 'Temperatura Min': 900, 'Temperatura Max': 1150, 'Materiale per Stampi': 'Acciaio 1.2311'}\n",
            "{'Codice Pezzo': 'BFFU8KXT', 'Tipo di Acciaio': 'AISI 430', 'Temperatura Min': 900, 'Temperatura Max': 1150, 'Materiale per Stampi': 'Acciaio 1.2311'}\n"
          ]
        },
        {
          "output_type": "error",
          "ename": "KeyboardInterrupt",
          "evalue": "",
          "traceback": [
            "\u001b[0;31m---------------------------------------------------------------------------\u001b[0m",
            "\u001b[0;31mKeyboardInterrupt\u001b[0m                         Traceback (most recent call last)",
            "\u001b[0;32m<ipython-input-3-cf68bc452022>\u001b[0m in \u001b[0;36m<cell line: 40>\u001b[0;34m()\u001b[0m\n\u001b[1;32m     41\u001b[0m     \u001b[0mrecord\u001b[0m \u001b[0;34m=\u001b[0m \u001b[0mgenerate_random_record\u001b[0m\u001b[0;34m(\u001b[0m\u001b[0;34m)\u001b[0m\u001b[0;34m\u001b[0m\u001b[0;34m\u001b[0m\u001b[0m\n\u001b[1;32m     42\u001b[0m     \u001b[0mprint\u001b[0m\u001b[0;34m(\u001b[0m\u001b[0mrecord\u001b[0m\u001b[0;34m)\u001b[0m\u001b[0;34m\u001b[0m\u001b[0;34m\u001b[0m\u001b[0m\n\u001b[0;32m---> 43\u001b[0;31m     \u001b[0mtime\u001b[0m\u001b[0;34m.\u001b[0m\u001b[0msleep\u001b[0m\u001b[0;34m(\u001b[0m\u001b[0;36m10\u001b[0m\u001b[0;34m)\u001b[0m\u001b[0;34m\u001b[0m\u001b[0;34m\u001b[0m\u001b[0m\n\u001b[0m",
            "\u001b[0;31mKeyboardInterrupt\u001b[0m: "
          ]
        }
      ]
    }
  ]
}